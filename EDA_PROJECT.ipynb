{
 "cells": [
  {
   "attachments": {},
   "cell_type": "markdown",
   "id": "ec632ff6",
   "metadata": {},
   "source": [
    "# Title: comprehensive price analysis of flats, apartments, and villas based on their respective locations in Hyderabad"
   ]
  },
  {
   "cell_type": "markdown",
   "id": "77e6ba4b",
   "metadata": {},
   "source": [
    "# Abstract"
   ]
  },
  {
   "cell_type": "markdown",
   "id": "550719d5",
   "metadata": {},
   "source": [
    "The real estate market is a dynamic and complex industry where property prices vary significantly based on location. This analysis aims to explore the relationship between property types (flats, apartments, and villas) and their prices in different locations. By analyzing historical property data, we can gain insights into how location affects property prices and help potential buyers, sellers, and investors make informed decisions."
   ]
  },
  {
   "cell_type": "markdown",
   "id": "32c95e57",
   "metadata": {},
   "source": [
    "# Introduction"
   ]
  },
  {
   "cell_type": "markdown",
   "id": "f0003f0e",
   "metadata": {},
   "source": [
    "In the real estate market, property prices are influenced by a multitude of factors, with location being a primary determinant. This analysis focuses on examining the correlation between property types and their prices across different regions using data sourced from the Makaan website."
   ]
  },
  {
   "cell_type": "code",
   "execution_count": null,
   "id": "2494d8f9",
   "metadata": {},
   "outputs": [],
   "source": []
  },
  {
   "cell_type": "code",
   "execution_count": 1,
   "id": "0a5b30d4",
   "metadata": {},
   "outputs": [],
   "source": [
    "import pandas as pd\n",
    "import numpy as np\n",
    "import matplotlib.pyplot as plt\n",
    "import seaborn as sns\n",
    "import re\n",
    "from bs4 import BeautifulSoup\n",
    "import requests\n",
    "from selenium import webdriver"
   ]
  },
  {
   "cell_type": "code",
   "execution_count": 2,
   "id": "aa5c8fb1",
   "metadata": {},
   "outputs": [
    {
     "data": {
      "text/plain": [
       "<Response [200]>"
      ]
     },
     "execution_count": 2,
     "metadata": {},
     "output_type": "execute_result"
    }
   ],
   "source": [
    "url=\"https://www.makaan.com/hyderabad-residential-property/buy-property-in-hyderabad-city\"\n",
    "page=requests.get(url)\n",
    "page"
   ]
  },
  {
   "cell_type": "markdown",
   "id": "3abaf046",
   "metadata": {},
   "source": [
    "# web scraping from the Makaan website"
   ]
  },
  {
   "cell_type": "code",
   "execution_count": 2,
   "id": "4e349bbb",
   "metadata": {},
   "outputs": [],
   "source": [
    "price=[]\n",
    "Type_of_BHK=[]\n",
    "area=[]\n",
    "construction_status=[]\n",
    "Facing=[]\n",
    "Location=[]\n",
    "TypeOfHouse=[]\n",
    "a=[50375,51943,50376,51242,51238,51957,53034,51240,51541,51963]\n",
    "for j in a:\n",
    "    for i in range(1,11):\n",
    "        url=f\"https://www.makaan.com/hyderabad-property/gachibowli-flats-for-sale-{j}?page={i}\"\n",
    "        page=requests.get(url)\n",
    "        soup=BeautifulSoup(page.text)\n",
    "        container=soup.find_all(\"li\",class_=\"cardholder\")\n",
    "        for i in container:\n",
    "            a=i.find(\"td\",class_=\"price\")\n",
    "            if a:\n",
    "                price.append(a.text)\n",
    "            else:\n",
    "                price.append(np.nan)\n",
    "        for i in container:\n",
    "            i.find(\"div\",class_=\"title-line-wrap\")\n",
    "            reg=re.findall(\"(\\d\\sBHK)\",i.text)       \n",
    "            if reg:\n",
    "                Type_of_BHK.append(reg[0])\n",
    "            else:\n",
    "                Type_of_BHK.append(np.nan)\n",
    "        for i in container:\n",
    "            i.find(\"div\",class_=\"title-line-wrap\")\n",
    "            reg=re.findall(\"((?:Manikonda|Gachibowli|Nizampet|Kukatpally|Attapur|LB Nagar|Ameerpet|Kondapur|Jubilee Hills|Nanakramguda))\",i.text)       \n",
    "            if reg:\n",
    "                Location.append(reg[0])\n",
    "            else:\n",
    "                Location.append(np.nan)\n",
    "        for i in container:\n",
    "            i.find(\"div\",class_=\"title-line-wrap\")\n",
    "            reg=re.findall(\"((?:Apartment|Villa|Independent|Flat))\",i.text)       \n",
    "            if reg:\n",
    "                TypeOfHouse.append(reg[0])\n",
    "            else:\n",
    "                TypeOfHouse.append(np.nan)\n",
    "        for i in container:\n",
    "            a=i.find(\"td\",class_=\"size\")\n",
    "            if a:\n",
    "                area.append(a.text)\n",
    "            else:\n",
    "                area.append(np.nan)\n",
    "        for i in container:\n",
    "            a=i.find(\"td\",class_=\"val\")\n",
    "            if a:\n",
    "                construction_status.append(a.text)\n",
    "            else:\n",
    "                construction_status.append(np.nan)\n",
    "        for i in container:\n",
    "            i.find(\"ul\",class_=\"listing-details\")\n",
    "            reg=re.findall(\"(\\w+\\sfacing)\",i.text)\n",
    "            if reg:\n",
    "                Facing.append(reg[0])\n",
    "            else:\n",
    "                Facing.append(np.nan)"
   ]
  },
  {
   "cell_type": "code",
   "execution_count": 3,
   "id": "88e0c891",
   "metadata": {},
   "outputs": [
    {
     "name": "stdout",
     "output_type": "stream",
     "text": [
      "1776\n",
      "1776\n",
      "1776\n",
      "1776\n",
      "1776\n",
      "1776\n",
      "1776\n"
     ]
    }
   ],
   "source": [
    "print(len(TypeOfHouse))\n",
    "print(len(construction_status))\n",
    "print(len(Facing))\n",
    "print(len(Type_of_BHK))\n",
    "print(len(area))\n",
    "print(len(price))\n",
    "print(len(Location))"
   ]
  },
  {
   "cell_type": "markdown",
   "id": "37d2f6d7",
   "metadata": {},
   "source": [
    "# Above DataFrame save it into csv_file"
   ]
  },
  {
   "cell_type": "code",
   "execution_count": 4,
   "id": "7ef45228",
   "metadata": {},
   "outputs": [],
   "source": [
    "FlatsData={\"TypeOfHouse\":TypeOfHouse,\n",
    "           \"Construction_status\":construction_status,\n",
    "           \"Facing\":Facing,\n",
    "           \"Type_of_BHK\":Type_of_BHK,\n",
    "           \"Area_Sq_ft\":area,\n",
    "           \"Price_in_Lakhs\":price,\n",
    "           \"Location\":Location}  \n",
    "df=pd.DataFrame(FlatsData)"
   ]
  },
  {
   "cell_type": "code",
   "execution_count": 5,
   "id": "6baf9f15",
   "metadata": {},
   "outputs": [],
   "source": [
    "df=df.dropna()"
   ]
  },
  {
   "cell_type": "code",
   "execution_count": 6,
   "id": "2f11306a",
   "metadata": {},
   "outputs": [
    {
     "data": {
      "text/plain": [
       "777"
      ]
     },
     "execution_count": 6,
     "metadata": {},
     "output_type": "execute_result"
    }
   ],
   "source": [
    "len(df)"
   ]
  },
  {
   "cell_type": "code",
   "execution_count": 23,
   "id": "260a77b2",
   "metadata": {},
   "outputs": [],
   "source": [
    "#df.to_csv(\"DA_REALESTATE_Project.csv\")"
   ]
  },
  {
   "cell_type": "code",
   "execution_count": 24,
   "id": "c18fe877",
   "metadata": {},
   "outputs": [],
   "source": [
    "#df.to_excel(\"DA_REALESTATE_Project.xlsx\")"
   ]
  },
  {
   "cell_type": "code",
   "execution_count": 2,
   "id": "1d2e1e73",
   "metadata": {},
   "outputs": [
    {
     "data": {
      "text/html": [
       "<div>\n",
       "<style scoped>\n",
       "    .dataframe tbody tr th:only-of-type {\n",
       "        vertical-align: middle;\n",
       "    }\n",
       "\n",
       "    .dataframe tbody tr th {\n",
       "        vertical-align: top;\n",
       "    }\n",
       "\n",
       "    .dataframe thead th {\n",
       "        text-align: right;\n",
       "    }\n",
       "</style>\n",
       "<table border=\"1\" class=\"dataframe\">\n",
       "  <thead>\n",
       "    <tr style=\"text-align: right;\">\n",
       "      <th></th>\n",
       "      <th>TypeOfHouse</th>\n",
       "      <th>Construction_status</th>\n",
       "      <th>Facing</th>\n",
       "      <th>Type_of_BHK</th>\n",
       "      <th>Area_Sq_ft</th>\n",
       "      <th>Price_in_Lakhs</th>\n",
       "      <th>Location</th>\n",
       "    </tr>\n",
       "  </thead>\n",
       "  <tbody>\n",
       "    <tr>\n",
       "      <th>0</th>\n",
       "      <td>Villa</td>\n",
       "      <td>Under Construction</td>\n",
       "      <td>East facing</td>\n",
       "      <td>4 BHK</td>\n",
       "      <td>3940</td>\n",
       "      <td>2.33 Cr</td>\n",
       "      <td>Gachibowli</td>\n",
       "    </tr>\n",
       "    <tr>\n",
       "      <th>1</th>\n",
       "      <td>Apartment</td>\n",
       "      <td>Under Construction</td>\n",
       "      <td>East facing</td>\n",
       "      <td>3 BHK</td>\n",
       "      <td>2270</td>\n",
       "      <td>2.02 Cr</td>\n",
       "      <td>Gachibowli</td>\n",
       "    </tr>\n",
       "    <tr>\n",
       "      <th>2</th>\n",
       "      <td>Apartment</td>\n",
       "      <td>Under Construction</td>\n",
       "      <td>East facing</td>\n",
       "      <td>3 BHK</td>\n",
       "      <td>1721</td>\n",
       "      <td>1.2 Cr</td>\n",
       "      <td>Gachibowli</td>\n",
       "    </tr>\n",
       "    <tr>\n",
       "      <th>3</th>\n",
       "      <td>Apartment</td>\n",
       "      <td>Under Construction</td>\n",
       "      <td>East facing</td>\n",
       "      <td>3 BHK</td>\n",
       "      <td>1896</td>\n",
       "      <td>87 L</td>\n",
       "      <td>Gachibowli</td>\n",
       "    </tr>\n",
       "    <tr>\n",
       "      <th>4</th>\n",
       "      <td>Apartment</td>\n",
       "      <td>Under Construction</td>\n",
       "      <td>East facing</td>\n",
       "      <td>3 BHK</td>\n",
       "      <td>1565</td>\n",
       "      <td>76 L</td>\n",
       "      <td>Gachibowli</td>\n",
       "    </tr>\n",
       "    <tr>\n",
       "      <th>...</th>\n",
       "      <td>...</td>\n",
       "      <td>...</td>\n",
       "      <td>...</td>\n",
       "      <td>...</td>\n",
       "      <td>...</td>\n",
       "      <td>...</td>\n",
       "      <td>...</td>\n",
       "    </tr>\n",
       "    <tr>\n",
       "      <th>780</th>\n",
       "      <td>Apartment</td>\n",
       "      <td>Under Construction</td>\n",
       "      <td>East facing</td>\n",
       "      <td>3 BHK</td>\n",
       "      <td>1400</td>\n",
       "      <td>77 L</td>\n",
       "      <td>Nanakramguda</td>\n",
       "    </tr>\n",
       "    <tr>\n",
       "      <th>781</th>\n",
       "      <td>Apartment</td>\n",
       "      <td>Under Construction</td>\n",
       "      <td>East facing</td>\n",
       "      <td>2 BHK</td>\n",
       "      <td>1147</td>\n",
       "      <td>71.1 L</td>\n",
       "      <td>Nanakramguda</td>\n",
       "    </tr>\n",
       "    <tr>\n",
       "      <th>782</th>\n",
       "      <td>Apartment</td>\n",
       "      <td>Under Construction</td>\n",
       "      <td>East facing</td>\n",
       "      <td>3 BHK</td>\n",
       "      <td>1610</td>\n",
       "      <td>1.04 Cr</td>\n",
       "      <td>Nanakramguda</td>\n",
       "    </tr>\n",
       "    <tr>\n",
       "      <th>783</th>\n",
       "      <td>Apartment</td>\n",
       "      <td>Under Construction</td>\n",
       "      <td>East facing</td>\n",
       "      <td>3 BHK</td>\n",
       "      <td>1610</td>\n",
       "      <td>1.04 Cr</td>\n",
       "      <td>Nanakramguda</td>\n",
       "    </tr>\n",
       "    <tr>\n",
       "      <th>784</th>\n",
       "      <td>Apartment</td>\n",
       "      <td>Under Construction</td>\n",
       "      <td>East facing</td>\n",
       "      <td>2 BHK</td>\n",
       "      <td>1136</td>\n",
       "      <td>70.4 L</td>\n",
       "      <td>Nanakramguda</td>\n",
       "    </tr>\n",
       "  </tbody>\n",
       "</table>\n",
       "<p>785 rows × 7 columns</p>\n",
       "</div>"
      ],
      "text/plain": [
       "    TypeOfHouse Construction_status       Facing Type_of_BHK  Area_Sq_ft  \\\n",
       "0         Villa  Under Construction  East facing       4 BHK        3940   \n",
       "1     Apartment  Under Construction  East facing       3 BHK        2270   \n",
       "2     Apartment  Under Construction  East facing       3 BHK        1721   \n",
       "3     Apartment  Under Construction  East facing       3 BHK        1896   \n",
       "4     Apartment  Under Construction  East facing       3 BHK        1565   \n",
       "..          ...                 ...          ...         ...         ...   \n",
       "780   Apartment  Under Construction  East facing       3 BHK        1400   \n",
       "781   Apartment  Under Construction  East facing       2 BHK        1147   \n",
       "782   Apartment  Under Construction  East facing       3 BHK        1610   \n",
       "783   Apartment  Under Construction  East facing       3 BHK        1610   \n",
       "784   Apartment  Under Construction  East facing       2 BHK        1136   \n",
       "\n",
       "    Price_in_Lakhs      Location  \n",
       "0          2.33 Cr    Gachibowli  \n",
       "1          2.02 Cr    Gachibowli  \n",
       "2           1.2 Cr    Gachibowli  \n",
       "3             87 L    Gachibowli  \n",
       "4             76 L    Gachibowli  \n",
       "..             ...           ...  \n",
       "780           77 L  Nanakramguda  \n",
       "781         71.1 L  Nanakramguda  \n",
       "782        1.04 Cr  Nanakramguda  \n",
       "783        1.04 Cr  Nanakramguda  \n",
       "784         70.4 L  Nanakramguda  \n",
       "\n",
       "[785 rows x 7 columns]"
      ]
     },
     "execution_count": 2,
     "metadata": {},
     "output_type": "execute_result"
    }
   ],
   "source": [
    "df1=pd.read_csv(\"DA_REALESTATE_Project.csv\")\n",
    "df1=df1.drop([\"Unnamed: 0\"],axis=1)\n",
    "df1"
   ]
  },
  {
   "cell_type": "markdown",
   "id": "be2e0ee2",
   "metadata": {},
   "source": [
    "# Data Cleaning"
   ]
  },
  {
   "cell_type": "code",
   "execution_count": 3,
   "id": "23728ed9",
   "metadata": {},
   "outputs": [
    {
     "name": "stdout",
     "output_type": "stream",
     "text": [
      "<class 'pandas.core.frame.DataFrame'>\n",
      "RangeIndex: 785 entries, 0 to 784\n",
      "Data columns (total 7 columns):\n",
      " #   Column               Non-Null Count  Dtype \n",
      "---  ------               --------------  ----- \n",
      " 0   TypeOfHouse          785 non-null    object\n",
      " 1   Construction_status  785 non-null    object\n",
      " 2   Facing               785 non-null    object\n",
      " 3   Type_of_BHK          785 non-null    object\n",
      " 4   Area_Sq_ft           785 non-null    int64 \n",
      " 5   Price_in_Lakhs       785 non-null    object\n",
      " 6   Location             785 non-null    object\n",
      "dtypes: int64(1), object(6)\n",
      "memory usage: 43.1+ KB\n"
     ]
    }
   ],
   "source": [
    "df1.info()"
   ]
  },
  {
   "cell_type": "code",
   "execution_count": 4,
   "id": "25b1b29e",
   "metadata": {},
   "outputs": [],
   "source": [
    "df1[\"Facing\"].replace({\"east facing\":\"East facing\",\"south facing\":\"South facing\",\"west facing\":\"West facing\"},regex=True,inplace=True)"
   ]
  },
  {
   "cell_type": "code",
   "execution_count": 5,
   "id": "5af2fbf5",
   "metadata": {},
   "outputs": [
    {
     "data": {
      "text/plain": [
       "TypeOfHouse            0\n",
       "Construction_status    0\n",
       "Facing                 0\n",
       "Type_of_BHK            0\n",
       "Area_Sq_ft             0\n",
       "Price_in_Lakhs         0\n",
       "Location               0\n",
       "dtype: int64"
      ]
     },
     "execution_count": 5,
     "metadata": {},
     "output_type": "execute_result"
    }
   ],
   "source": [
    "# Checking the missing values \n",
    "df1.isnull().sum()"
   ]
  },
  {
   "cell_type": "code",
   "execution_count": 6,
   "id": "4e5d7054",
   "metadata": {},
   "outputs": [
    {
     "data": {
      "text/plain": [
       "numpy.int64"
      ]
     },
     "execution_count": 6,
     "metadata": {},
     "output_type": "execute_result"
    }
   ],
   "source": [
    "type(df1.Type_of_BHK.isnull().sum())"
   ]
  },
  {
   "cell_type": "code",
   "execution_count": 7,
   "id": "42d3341d",
   "metadata": {},
   "outputs": [
    {
     "data": {
      "text/plain": [
       "numpy.int64"
      ]
     },
     "execution_count": 7,
     "metadata": {},
     "output_type": "execute_result"
    }
   ],
   "source": [
    "type(df1.Location.isnull().sum()) "
   ]
  },
  {
   "cell_type": "code",
   "execution_count": 8,
   "id": "292af1ce",
   "metadata": {},
   "outputs": [
    {
     "data": {
      "text/plain": [
       "numpy.int64"
      ]
     },
     "execution_count": 8,
     "metadata": {},
     "output_type": "execute_result"
    }
   ],
   "source": [
    "type(df1.Price_in_Lakhs.isnull().sum())"
   ]
  },
  {
   "cell_type": "code",
   "execution_count": 9,
   "id": "120cb5ef",
   "metadata": {},
   "outputs": [
    {
     "data": {
      "text/plain": [
       "numpy.int64"
      ]
     },
     "execution_count": 9,
     "metadata": {},
     "output_type": "execute_result"
    }
   ],
   "source": [
    "type(df1.Area_Sq_ft[0])"
   ]
  },
  {
   "cell_type": "code",
   "execution_count": 10,
   "id": "b7ac1f5a",
   "metadata": {},
   "outputs": [],
   "source": [
    "df1=df1[(df1.Facing!=\"is facing\")]\n",
    "df1.reset_index(drop=True,inplace=True)"
   ]
  },
  {
   "cell_type": "code",
   "execution_count": 11,
   "id": "3d727e83",
   "metadata": {},
   "outputs": [
    {
     "name": "stderr",
     "output_type": "stream",
     "text": [
      "C:\\Users\\Hi\\AppData\\Local\\Temp\\ipykernel_15084\\3767426782.py:1: SettingWithCopyWarning: \n",
      "A value is trying to be set on a copy of a slice from a DataFrame.\n",
      "Try using .loc[row_indexer,col_indexer] = value instead\n",
      "\n",
      "See the caveats in the documentation: https://pandas.pydata.org/pandas-docs/stable/user_guide/indexing.html#returning-a-view-versus-a-copy\n",
      "  df1[\"Price_in_Lakhs\"]=df1[\"Price_in_Lakhs\"].replace({\"L\":\"*1\",\"Cr\":\"*1e2\"},regex=True).map(pd.eval).astype(int)\n"
     ]
    },
    {
     "data": {
      "text/html": [
       "<div>\n",
       "<style scoped>\n",
       "    .dataframe tbody tr th:only-of-type {\n",
       "        vertical-align: middle;\n",
       "    }\n",
       "\n",
       "    .dataframe tbody tr th {\n",
       "        vertical-align: top;\n",
       "    }\n",
       "\n",
       "    .dataframe thead th {\n",
       "        text-align: right;\n",
       "    }\n",
       "</style>\n",
       "<table border=\"1\" class=\"dataframe\">\n",
       "  <thead>\n",
       "    <tr style=\"text-align: right;\">\n",
       "      <th></th>\n",
       "      <th>TypeOfHouse</th>\n",
       "      <th>Construction_status</th>\n",
       "      <th>Facing</th>\n",
       "      <th>Type_of_BHK</th>\n",
       "      <th>Area_Sq_ft</th>\n",
       "      <th>Price_in_Lakhs</th>\n",
       "      <th>Location</th>\n",
       "    </tr>\n",
       "  </thead>\n",
       "  <tbody>\n",
       "    <tr>\n",
       "      <th>0</th>\n",
       "      <td>Villa</td>\n",
       "      <td>Under Construction</td>\n",
       "      <td>East facing</td>\n",
       "      <td>4 BHK</td>\n",
       "      <td>3940</td>\n",
       "      <td>233</td>\n",
       "      <td>Gachibowli</td>\n",
       "    </tr>\n",
       "    <tr>\n",
       "      <th>1</th>\n",
       "      <td>Apartment</td>\n",
       "      <td>Under Construction</td>\n",
       "      <td>East facing</td>\n",
       "      <td>3 BHK</td>\n",
       "      <td>2270</td>\n",
       "      <td>202</td>\n",
       "      <td>Gachibowli</td>\n",
       "    </tr>\n",
       "    <tr>\n",
       "      <th>2</th>\n",
       "      <td>Apartment</td>\n",
       "      <td>Under Construction</td>\n",
       "      <td>East facing</td>\n",
       "      <td>3 BHK</td>\n",
       "      <td>1721</td>\n",
       "      <td>120</td>\n",
       "      <td>Gachibowli</td>\n",
       "    </tr>\n",
       "    <tr>\n",
       "      <th>3</th>\n",
       "      <td>Apartment</td>\n",
       "      <td>Under Construction</td>\n",
       "      <td>East facing</td>\n",
       "      <td>3 BHK</td>\n",
       "      <td>1896</td>\n",
       "      <td>87</td>\n",
       "      <td>Gachibowli</td>\n",
       "    </tr>\n",
       "    <tr>\n",
       "      <th>4</th>\n",
       "      <td>Apartment</td>\n",
       "      <td>Under Construction</td>\n",
       "      <td>East facing</td>\n",
       "      <td>3 BHK</td>\n",
       "      <td>1565</td>\n",
       "      <td>76</td>\n",
       "      <td>Gachibowli</td>\n",
       "    </tr>\n",
       "    <tr>\n",
       "      <th>...</th>\n",
       "      <td>...</td>\n",
       "      <td>...</td>\n",
       "      <td>...</td>\n",
       "      <td>...</td>\n",
       "      <td>...</td>\n",
       "      <td>...</td>\n",
       "      <td>...</td>\n",
       "    </tr>\n",
       "    <tr>\n",
       "      <th>740</th>\n",
       "      <td>Apartment</td>\n",
       "      <td>Under Construction</td>\n",
       "      <td>East facing</td>\n",
       "      <td>3 BHK</td>\n",
       "      <td>1400</td>\n",
       "      <td>77</td>\n",
       "      <td>Nanakramguda</td>\n",
       "    </tr>\n",
       "    <tr>\n",
       "      <th>741</th>\n",
       "      <td>Apartment</td>\n",
       "      <td>Under Construction</td>\n",
       "      <td>East facing</td>\n",
       "      <td>2 BHK</td>\n",
       "      <td>1147</td>\n",
       "      <td>71</td>\n",
       "      <td>Nanakramguda</td>\n",
       "    </tr>\n",
       "    <tr>\n",
       "      <th>742</th>\n",
       "      <td>Apartment</td>\n",
       "      <td>Under Construction</td>\n",
       "      <td>East facing</td>\n",
       "      <td>3 BHK</td>\n",
       "      <td>1610</td>\n",
       "      <td>104</td>\n",
       "      <td>Nanakramguda</td>\n",
       "    </tr>\n",
       "    <tr>\n",
       "      <th>743</th>\n",
       "      <td>Apartment</td>\n",
       "      <td>Under Construction</td>\n",
       "      <td>East facing</td>\n",
       "      <td>3 BHK</td>\n",
       "      <td>1610</td>\n",
       "      <td>104</td>\n",
       "      <td>Nanakramguda</td>\n",
       "    </tr>\n",
       "    <tr>\n",
       "      <th>744</th>\n",
       "      <td>Apartment</td>\n",
       "      <td>Under Construction</td>\n",
       "      <td>East facing</td>\n",
       "      <td>2 BHK</td>\n",
       "      <td>1136</td>\n",
       "      <td>70</td>\n",
       "      <td>Nanakramguda</td>\n",
       "    </tr>\n",
       "  </tbody>\n",
       "</table>\n",
       "<p>745 rows × 7 columns</p>\n",
       "</div>"
      ],
      "text/plain": [
       "    TypeOfHouse Construction_status       Facing Type_of_BHK  Area_Sq_ft  \\\n",
       "0         Villa  Under Construction  East facing       4 BHK        3940   \n",
       "1     Apartment  Under Construction  East facing       3 BHK        2270   \n",
       "2     Apartment  Under Construction  East facing       3 BHK        1721   \n",
       "3     Apartment  Under Construction  East facing       3 BHK        1896   \n",
       "4     Apartment  Under Construction  East facing       3 BHK        1565   \n",
       "..          ...                 ...          ...         ...         ...   \n",
       "740   Apartment  Under Construction  East facing       3 BHK        1400   \n",
       "741   Apartment  Under Construction  East facing       2 BHK        1147   \n",
       "742   Apartment  Under Construction  East facing       3 BHK        1610   \n",
       "743   Apartment  Under Construction  East facing       3 BHK        1610   \n",
       "744   Apartment  Under Construction  East facing       2 BHK        1136   \n",
       "\n",
       "     Price_in_Lakhs      Location  \n",
       "0               233    Gachibowli  \n",
       "1               202    Gachibowli  \n",
       "2               120    Gachibowli  \n",
       "3                87    Gachibowli  \n",
       "4                76    Gachibowli  \n",
       "..              ...           ...  \n",
       "740              77  Nanakramguda  \n",
       "741              71  Nanakramguda  \n",
       "742             104  Nanakramguda  \n",
       "743             104  Nanakramguda  \n",
       "744              70  Nanakramguda  \n",
       "\n",
       "[745 rows x 7 columns]"
      ]
     },
     "execution_count": 11,
     "metadata": {},
     "output_type": "execute_result"
    }
   ],
   "source": [
    "df1[\"Price_in_Lakhs\"]=df1[\"Price_in_Lakhs\"].replace({\"L\":\"*1\",\"Cr\":\"*1e2\"},regex=True).map(pd.eval).astype(int)\n",
    "df1"
   ]
  },
  {
   "cell_type": "code",
   "execution_count": 12,
   "id": "16a6d551",
   "metadata": {},
   "outputs": [
    {
     "data": {
      "text/plain": [
       "0     233\n",
       "1     202\n",
       "2     120\n",
       "3      87\n",
       "4      76\n",
       "5     112\n",
       "6     100\n",
       "7     100\n",
       "8      90\n",
       "9     136\n",
       "10     71\n",
       "11    181\n",
       "12     82\n",
       "13     65\n",
       "14     60\n",
       "15     65\n",
       "16     34\n",
       "17    141\n",
       "18    145\n",
       "19    200\n",
       "Name: Price_in_Lakhs, dtype: int32"
      ]
     },
     "execution_count": 12,
     "metadata": {},
     "output_type": "execute_result"
    }
   ],
   "source": [
    "df1.Price_in_Lakhs.head(20)"
   ]
  },
  {
   "cell_type": "code",
   "execution_count": 13,
   "id": "3dd24923",
   "metadata": {},
   "outputs": [
    {
     "data": {
      "text/plain": [
       "East facing         492\n",
       "West facing         144\n",
       "North facing         43\n",
       "NorthEast facing     29\n",
       "South facing         11\n",
       "NorthWest facing     11\n",
       "road facing           6\n",
       "SouthWest facing      5\n",
       "garden facing         2\n",
       "SouthEast facing      1\n",
       "pool facing           1\n",
       "Name: Facing, dtype: int64"
      ]
     },
     "execution_count": 13,
     "metadata": {},
     "output_type": "execute_result"
    }
   ],
   "source": [
    "df1.Facing.value_counts()"
   ]
  },
  {
   "cell_type": "code",
   "execution_count": 14,
   "id": "6290db8b",
   "metadata": {},
   "outputs": [
    {
     "name": "stdout",
     "output_type": "stream",
     "text": [
      "<class 'pandas.core.frame.DataFrame'>\n",
      "RangeIndex: 745 entries, 0 to 744\n",
      "Data columns (total 7 columns):\n",
      " #   Column               Non-Null Count  Dtype \n",
      "---  ------               --------------  ----- \n",
      " 0   TypeOfHouse          745 non-null    object\n",
      " 1   Construction_status  745 non-null    object\n",
      " 2   Facing               745 non-null    object\n",
      " 3   Type_of_BHK          745 non-null    object\n",
      " 4   Area_Sq_ft           745 non-null    int64 \n",
      " 5   Price_in_Lakhs       745 non-null    int32 \n",
      " 6   Location             745 non-null    object\n",
      "dtypes: int32(1), int64(1), object(5)\n",
      "memory usage: 38.0+ KB\n"
     ]
    }
   ],
   "source": [
    "df1.info()"
   ]
  },
  {
   "cell_type": "code",
   "execution_count": 15,
   "id": "4d156327",
   "metadata": {},
   "outputs": [
    {
     "name": "stderr",
     "output_type": "stream",
     "text": [
      "C:\\Users\\Hi\\AppData\\Local\\Temp\\ipykernel_15084\\2904093236.py:11: SettingWithCopyWarning: \n",
      "A value is trying to be set on a copy of a slice from a DataFrame.\n",
      "Try using .loc[row_indexer,col_indexer] = value instead\n",
      "\n",
      "See the caveats in the documentation: https://pandas.pydata.org/pandas-docs/stable/user_guide/indexing.html#returning-a-view-versus-a-copy\n",
      "  df1[\"PriceRange\"]=PriceRange\n"
     ]
    }
   ],
   "source": [
    "PriceRange=[]\n",
    "for i in df1[\"Price_in_Lakhs\"]:\n",
    "    if i<150:\n",
    "        PriceRange.append(\"Low\")\n",
    "    elif (i>150) & (i<350):\n",
    "        PriceRange.append(\"Medium\")\n",
    "    elif(i>350) & (i<500):\n",
    "        PriceRange.append(\"High\")\n",
    "    else:\n",
    "        PriceRange.append(\"Very High\")\n",
    "df1[\"PriceRange\"]=PriceRange"
   ]
  },
  {
   "cell_type": "code",
   "execution_count": 16,
   "id": "e26948e1",
   "metadata": {},
   "outputs": [
    {
     "data": {
      "text/html": [
       "<div>\n",
       "<style scoped>\n",
       "    .dataframe tbody tr th:only-of-type {\n",
       "        vertical-align: middle;\n",
       "    }\n",
       "\n",
       "    .dataframe tbody tr th {\n",
       "        vertical-align: top;\n",
       "    }\n",
       "\n",
       "    .dataframe thead th {\n",
       "        text-align: right;\n",
       "    }\n",
       "</style>\n",
       "<table border=\"1\" class=\"dataframe\">\n",
       "  <thead>\n",
       "    <tr style=\"text-align: right;\">\n",
       "      <th></th>\n",
       "      <th>TypeOfHouse</th>\n",
       "      <th>Construction_status</th>\n",
       "      <th>Facing</th>\n",
       "      <th>Type_of_BHK</th>\n",
       "      <th>Area_Sq_ft</th>\n",
       "      <th>Price_in_Lakhs</th>\n",
       "      <th>Location</th>\n",
       "      <th>PriceRange</th>\n",
       "    </tr>\n",
       "  </thead>\n",
       "  <tbody>\n",
       "    <tr>\n",
       "      <th>0</th>\n",
       "      <td>Villa</td>\n",
       "      <td>Under Construction</td>\n",
       "      <td>East facing</td>\n",
       "      <td>4 BHK</td>\n",
       "      <td>3940</td>\n",
       "      <td>233</td>\n",
       "      <td>Gachibowli</td>\n",
       "      <td>Medium</td>\n",
       "    </tr>\n",
       "    <tr>\n",
       "      <th>1</th>\n",
       "      <td>Apartment</td>\n",
       "      <td>Under Construction</td>\n",
       "      <td>East facing</td>\n",
       "      <td>3 BHK</td>\n",
       "      <td>2270</td>\n",
       "      <td>202</td>\n",
       "      <td>Gachibowli</td>\n",
       "      <td>Medium</td>\n",
       "    </tr>\n",
       "    <tr>\n",
       "      <th>2</th>\n",
       "      <td>Apartment</td>\n",
       "      <td>Under Construction</td>\n",
       "      <td>East facing</td>\n",
       "      <td>3 BHK</td>\n",
       "      <td>1721</td>\n",
       "      <td>120</td>\n",
       "      <td>Gachibowli</td>\n",
       "      <td>Low</td>\n",
       "    </tr>\n",
       "    <tr>\n",
       "      <th>3</th>\n",
       "      <td>Apartment</td>\n",
       "      <td>Under Construction</td>\n",
       "      <td>East facing</td>\n",
       "      <td>3 BHK</td>\n",
       "      <td>1896</td>\n",
       "      <td>87</td>\n",
       "      <td>Gachibowli</td>\n",
       "      <td>Low</td>\n",
       "    </tr>\n",
       "    <tr>\n",
       "      <th>4</th>\n",
       "      <td>Apartment</td>\n",
       "      <td>Under Construction</td>\n",
       "      <td>East facing</td>\n",
       "      <td>3 BHK</td>\n",
       "      <td>1565</td>\n",
       "      <td>76</td>\n",
       "      <td>Gachibowli</td>\n",
       "      <td>Low</td>\n",
       "    </tr>\n",
       "    <tr>\n",
       "      <th>...</th>\n",
       "      <td>...</td>\n",
       "      <td>...</td>\n",
       "      <td>...</td>\n",
       "      <td>...</td>\n",
       "      <td>...</td>\n",
       "      <td>...</td>\n",
       "      <td>...</td>\n",
       "      <td>...</td>\n",
       "    </tr>\n",
       "    <tr>\n",
       "      <th>740</th>\n",
       "      <td>Apartment</td>\n",
       "      <td>Under Construction</td>\n",
       "      <td>East facing</td>\n",
       "      <td>3 BHK</td>\n",
       "      <td>1400</td>\n",
       "      <td>77</td>\n",
       "      <td>Nanakramguda</td>\n",
       "      <td>Low</td>\n",
       "    </tr>\n",
       "    <tr>\n",
       "      <th>741</th>\n",
       "      <td>Apartment</td>\n",
       "      <td>Under Construction</td>\n",
       "      <td>East facing</td>\n",
       "      <td>2 BHK</td>\n",
       "      <td>1147</td>\n",
       "      <td>71</td>\n",
       "      <td>Nanakramguda</td>\n",
       "      <td>Low</td>\n",
       "    </tr>\n",
       "    <tr>\n",
       "      <th>742</th>\n",
       "      <td>Apartment</td>\n",
       "      <td>Under Construction</td>\n",
       "      <td>East facing</td>\n",
       "      <td>3 BHK</td>\n",
       "      <td>1610</td>\n",
       "      <td>104</td>\n",
       "      <td>Nanakramguda</td>\n",
       "      <td>Low</td>\n",
       "    </tr>\n",
       "    <tr>\n",
       "      <th>743</th>\n",
       "      <td>Apartment</td>\n",
       "      <td>Under Construction</td>\n",
       "      <td>East facing</td>\n",
       "      <td>3 BHK</td>\n",
       "      <td>1610</td>\n",
       "      <td>104</td>\n",
       "      <td>Nanakramguda</td>\n",
       "      <td>Low</td>\n",
       "    </tr>\n",
       "    <tr>\n",
       "      <th>744</th>\n",
       "      <td>Apartment</td>\n",
       "      <td>Under Construction</td>\n",
       "      <td>East facing</td>\n",
       "      <td>2 BHK</td>\n",
       "      <td>1136</td>\n",
       "      <td>70</td>\n",
       "      <td>Nanakramguda</td>\n",
       "      <td>Low</td>\n",
       "    </tr>\n",
       "  </tbody>\n",
       "</table>\n",
       "<p>745 rows × 8 columns</p>\n",
       "</div>"
      ],
      "text/plain": [
       "    TypeOfHouse Construction_status       Facing Type_of_BHK  Area_Sq_ft  \\\n",
       "0         Villa  Under Construction  East facing       4 BHK        3940   \n",
       "1     Apartment  Under Construction  East facing       3 BHK        2270   \n",
       "2     Apartment  Under Construction  East facing       3 BHK        1721   \n",
       "3     Apartment  Under Construction  East facing       3 BHK        1896   \n",
       "4     Apartment  Under Construction  East facing       3 BHK        1565   \n",
       "..          ...                 ...          ...         ...         ...   \n",
       "740   Apartment  Under Construction  East facing       3 BHK        1400   \n",
       "741   Apartment  Under Construction  East facing       2 BHK        1147   \n",
       "742   Apartment  Under Construction  East facing       3 BHK        1610   \n",
       "743   Apartment  Under Construction  East facing       3 BHK        1610   \n",
       "744   Apartment  Under Construction  East facing       2 BHK        1136   \n",
       "\n",
       "     Price_in_Lakhs      Location PriceRange  \n",
       "0               233    Gachibowli     Medium  \n",
       "1               202    Gachibowli     Medium  \n",
       "2               120    Gachibowli        Low  \n",
       "3                87    Gachibowli        Low  \n",
       "4                76    Gachibowli        Low  \n",
       "..              ...           ...        ...  \n",
       "740              77  Nanakramguda        Low  \n",
       "741              71  Nanakramguda        Low  \n",
       "742             104  Nanakramguda        Low  \n",
       "743             104  Nanakramguda        Low  \n",
       "744              70  Nanakramguda        Low  \n",
       "\n",
       "[745 rows x 8 columns]"
      ]
     },
     "execution_count": 16,
     "metadata": {},
     "output_type": "execute_result"
    }
   ],
   "source": [
    "df1"
   ]
  },
  {
   "cell_type": "code",
   "execution_count": 17,
   "id": "365e48b2",
   "metadata": {},
   "outputs": [
    {
     "data": {
      "text/html": [
       "<div>\n",
       "<style scoped>\n",
       "    .dataframe tbody tr th:only-of-type {\n",
       "        vertical-align: middle;\n",
       "    }\n",
       "\n",
       "    .dataframe tbody tr th {\n",
       "        vertical-align: top;\n",
       "    }\n",
       "\n",
       "    .dataframe thead th {\n",
       "        text-align: right;\n",
       "    }\n",
       "</style>\n",
       "<table border=\"1\" class=\"dataframe\">\n",
       "  <thead>\n",
       "    <tr style=\"text-align: right;\">\n",
       "      <th></th>\n",
       "      <th>TypeOfHouse</th>\n",
       "      <th>Construction_status</th>\n",
       "      <th>Facing</th>\n",
       "      <th>Type_of_BHK</th>\n",
       "      <th>Area_Sq_ft</th>\n",
       "      <th>Price_in_Lakhs</th>\n",
       "      <th>Location</th>\n",
       "      <th>PriceRange</th>\n",
       "    </tr>\n",
       "  </thead>\n",
       "  <tbody>\n",
       "    <tr>\n",
       "      <th>0</th>\n",
       "      <td>Villa</td>\n",
       "      <td>Under Construction</td>\n",
       "      <td>East facing</td>\n",
       "      <td>4 BHK</td>\n",
       "      <td>3940</td>\n",
       "      <td>233</td>\n",
       "      <td>Gachibowli</td>\n",
       "      <td>Medium</td>\n",
       "    </tr>\n",
       "    <tr>\n",
       "      <th>1</th>\n",
       "      <td>Apartment</td>\n",
       "      <td>Under Construction</td>\n",
       "      <td>East facing</td>\n",
       "      <td>3 BHK</td>\n",
       "      <td>2270</td>\n",
       "      <td>202</td>\n",
       "      <td>Gachibowli</td>\n",
       "      <td>Medium</td>\n",
       "    </tr>\n",
       "    <tr>\n",
       "      <th>2</th>\n",
       "      <td>Apartment</td>\n",
       "      <td>Under Construction</td>\n",
       "      <td>East facing</td>\n",
       "      <td>3 BHK</td>\n",
       "      <td>1721</td>\n",
       "      <td>120</td>\n",
       "      <td>Gachibowli</td>\n",
       "      <td>Low</td>\n",
       "    </tr>\n",
       "    <tr>\n",
       "      <th>3</th>\n",
       "      <td>Apartment</td>\n",
       "      <td>Under Construction</td>\n",
       "      <td>East facing</td>\n",
       "      <td>3 BHK</td>\n",
       "      <td>1896</td>\n",
       "      <td>87</td>\n",
       "      <td>Gachibowli</td>\n",
       "      <td>Low</td>\n",
       "    </tr>\n",
       "    <tr>\n",
       "      <th>4</th>\n",
       "      <td>Apartment</td>\n",
       "      <td>Under Construction</td>\n",
       "      <td>East facing</td>\n",
       "      <td>3 BHK</td>\n",
       "      <td>1565</td>\n",
       "      <td>76</td>\n",
       "      <td>Gachibowli</td>\n",
       "      <td>Low</td>\n",
       "    </tr>\n",
       "    <tr>\n",
       "      <th>5</th>\n",
       "      <td>Apartment</td>\n",
       "      <td>Under Construction</td>\n",
       "      <td>East facing</td>\n",
       "      <td>2 BHK</td>\n",
       "      <td>1600</td>\n",
       "      <td>112</td>\n",
       "      <td>Gachibowli</td>\n",
       "      <td>Low</td>\n",
       "    </tr>\n",
       "    <tr>\n",
       "      <th>6</th>\n",
       "      <td>Independent</td>\n",
       "      <td>Ready to move</td>\n",
       "      <td>South facing</td>\n",
       "      <td>1 BHK</td>\n",
       "      <td>1500</td>\n",
       "      <td>100</td>\n",
       "      <td>Gachibowli</td>\n",
       "      <td>Low</td>\n",
       "    </tr>\n",
       "    <tr>\n",
       "      <th>7</th>\n",
       "      <td>Apartment</td>\n",
       "      <td>Under Construction</td>\n",
       "      <td>East facing</td>\n",
       "      <td>3 BHK</td>\n",
       "      <td>1500</td>\n",
       "      <td>100</td>\n",
       "      <td>Gachibowli</td>\n",
       "      <td>Low</td>\n",
       "    </tr>\n",
       "    <tr>\n",
       "      <th>8</th>\n",
       "      <td>Apartment</td>\n",
       "      <td>Under Construction</td>\n",
       "      <td>East facing</td>\n",
       "      <td>3 BHK</td>\n",
       "      <td>1500</td>\n",
       "      <td>90</td>\n",
       "      <td>Gachibowli</td>\n",
       "      <td>Low</td>\n",
       "    </tr>\n",
       "    <tr>\n",
       "      <th>9</th>\n",
       "      <td>Apartment</td>\n",
       "      <td>Under Construction</td>\n",
       "      <td>East facing</td>\n",
       "      <td>3 BHK</td>\n",
       "      <td>1945</td>\n",
       "      <td>136</td>\n",
       "      <td>Gachibowli</td>\n",
       "      <td>Low</td>\n",
       "    </tr>\n",
       "    <tr>\n",
       "      <th>10</th>\n",
       "      <td>Independent</td>\n",
       "      <td>Ready to move</td>\n",
       "      <td>East facing</td>\n",
       "      <td>2 BHK</td>\n",
       "      <td>1280</td>\n",
       "      <td>71</td>\n",
       "      <td>Gachibowli</td>\n",
       "      <td>Low</td>\n",
       "    </tr>\n",
       "    <tr>\n",
       "      <th>11</th>\n",
       "      <td>Apartment</td>\n",
       "      <td>Ready to move</td>\n",
       "      <td>West facing</td>\n",
       "      <td>3 BHK</td>\n",
       "      <td>2590</td>\n",
       "      <td>181</td>\n",
       "      <td>Gachibowli</td>\n",
       "      <td>Medium</td>\n",
       "    </tr>\n",
       "    <tr>\n",
       "      <th>12</th>\n",
       "      <td>Apartment</td>\n",
       "      <td>Under Construction</td>\n",
       "      <td>West facing</td>\n",
       "      <td>3 BHK</td>\n",
       "      <td>1827</td>\n",
       "      <td>82</td>\n",
       "      <td>Gachibowli</td>\n",
       "      <td>Low</td>\n",
       "    </tr>\n",
       "    <tr>\n",
       "      <th>13</th>\n",
       "      <td>Apartment</td>\n",
       "      <td>Under Construction</td>\n",
       "      <td>East facing</td>\n",
       "      <td>2 BHK</td>\n",
       "      <td>1200</td>\n",
       "      <td>65</td>\n",
       "      <td>Gachibowli</td>\n",
       "      <td>Low</td>\n",
       "    </tr>\n",
       "    <tr>\n",
       "      <th>14</th>\n",
       "      <td>Apartment</td>\n",
       "      <td>Under Construction</td>\n",
       "      <td>East facing</td>\n",
       "      <td>3 BHK</td>\n",
       "      <td>1845</td>\n",
       "      <td>60</td>\n",
       "      <td>Gachibowli</td>\n",
       "      <td>Low</td>\n",
       "    </tr>\n",
       "    <tr>\n",
       "      <th>15</th>\n",
       "      <td>Apartment</td>\n",
       "      <td>Under Construction</td>\n",
       "      <td>East facing</td>\n",
       "      <td>3 BHK</td>\n",
       "      <td>1821</td>\n",
       "      <td>65</td>\n",
       "      <td>Gachibowli</td>\n",
       "      <td>Low</td>\n",
       "    </tr>\n",
       "    <tr>\n",
       "      <th>16</th>\n",
       "      <td>Apartment</td>\n",
       "      <td>Under Construction</td>\n",
       "      <td>NorthEast facing</td>\n",
       "      <td>2 BHK</td>\n",
       "      <td>1200</td>\n",
       "      <td>34</td>\n",
       "      <td>Gachibowli</td>\n",
       "      <td>Low</td>\n",
       "    </tr>\n",
       "    <tr>\n",
       "      <th>17</th>\n",
       "      <td>Apartment</td>\n",
       "      <td>Under Construction</td>\n",
       "      <td>East facing</td>\n",
       "      <td>3 BHK</td>\n",
       "      <td>2175</td>\n",
       "      <td>141</td>\n",
       "      <td>Gachibowli</td>\n",
       "      <td>Low</td>\n",
       "    </tr>\n",
       "    <tr>\n",
       "      <th>18</th>\n",
       "      <td>Villa</td>\n",
       "      <td>Under Construction</td>\n",
       "      <td>East facing</td>\n",
       "      <td>3 BHK</td>\n",
       "      <td>2300</td>\n",
       "      <td>145</td>\n",
       "      <td>Gachibowli</td>\n",
       "      <td>Low</td>\n",
       "    </tr>\n",
       "    <tr>\n",
       "      <th>19</th>\n",
       "      <td>Apartment</td>\n",
       "      <td>Under Construction</td>\n",
       "      <td>East facing</td>\n",
       "      <td>3 BHK</td>\n",
       "      <td>2270</td>\n",
       "      <td>200</td>\n",
       "      <td>Gachibowli</td>\n",
       "      <td>Medium</td>\n",
       "    </tr>\n",
       "    <tr>\n",
       "      <th>20</th>\n",
       "      <td>Apartment</td>\n",
       "      <td>Under Construction</td>\n",
       "      <td>East facing</td>\n",
       "      <td>2 BHK</td>\n",
       "      <td>1110</td>\n",
       "      <td>54</td>\n",
       "      <td>Gachibowli</td>\n",
       "      <td>Low</td>\n",
       "    </tr>\n",
       "    <tr>\n",
       "      <th>21</th>\n",
       "      <td>Apartment</td>\n",
       "      <td>Ready to move</td>\n",
       "      <td>East facing</td>\n",
       "      <td>2 BHK</td>\n",
       "      <td>1140</td>\n",
       "      <td>62</td>\n",
       "      <td>Gachibowli</td>\n",
       "      <td>Low</td>\n",
       "    </tr>\n",
       "    <tr>\n",
       "      <th>22</th>\n",
       "      <td>Apartment</td>\n",
       "      <td>Under Construction</td>\n",
       "      <td>East facing</td>\n",
       "      <td>2 BHK</td>\n",
       "      <td>1208</td>\n",
       "      <td>67</td>\n",
       "      <td>Gachibowli</td>\n",
       "      <td>Low</td>\n",
       "    </tr>\n",
       "    <tr>\n",
       "      <th>23</th>\n",
       "      <td>Apartment</td>\n",
       "      <td>Under Construction</td>\n",
       "      <td>East facing</td>\n",
       "      <td>3 BHK</td>\n",
       "      <td>1890</td>\n",
       "      <td>139</td>\n",
       "      <td>Gachibowli</td>\n",
       "      <td>Low</td>\n",
       "    </tr>\n",
       "    <tr>\n",
       "      <th>24</th>\n",
       "      <td>Apartment</td>\n",
       "      <td>Under Construction</td>\n",
       "      <td>West facing</td>\n",
       "      <td>2 BHK</td>\n",
       "      <td>1323</td>\n",
       "      <td>66</td>\n",
       "      <td>Gachibowli</td>\n",
       "      <td>Low</td>\n",
       "    </tr>\n",
       "  </tbody>\n",
       "</table>\n",
       "</div>"
      ],
      "text/plain": [
       "    TypeOfHouse Construction_status            Facing Type_of_BHK  Area_Sq_ft  \\\n",
       "0         Villa  Under Construction       East facing       4 BHK        3940   \n",
       "1     Apartment  Under Construction       East facing       3 BHK        2270   \n",
       "2     Apartment  Under Construction       East facing       3 BHK        1721   \n",
       "3     Apartment  Under Construction       East facing       3 BHK        1896   \n",
       "4     Apartment  Under Construction       East facing       3 BHK        1565   \n",
       "5     Apartment  Under Construction       East facing       2 BHK        1600   \n",
       "6   Independent       Ready to move      South facing       1 BHK        1500   \n",
       "7     Apartment  Under Construction       East facing       3 BHK        1500   \n",
       "8     Apartment  Under Construction       East facing       3 BHK        1500   \n",
       "9     Apartment  Under Construction       East facing       3 BHK        1945   \n",
       "10  Independent       Ready to move       East facing       2 BHK        1280   \n",
       "11    Apartment       Ready to move       West facing       3 BHK        2590   \n",
       "12    Apartment  Under Construction       West facing       3 BHK        1827   \n",
       "13    Apartment  Under Construction       East facing       2 BHK        1200   \n",
       "14    Apartment  Under Construction       East facing       3 BHK        1845   \n",
       "15    Apartment  Under Construction       East facing       3 BHK        1821   \n",
       "16    Apartment  Under Construction  NorthEast facing       2 BHK        1200   \n",
       "17    Apartment  Under Construction       East facing       3 BHK        2175   \n",
       "18        Villa  Under Construction       East facing       3 BHK        2300   \n",
       "19    Apartment  Under Construction       East facing       3 BHK        2270   \n",
       "20    Apartment  Under Construction       East facing       2 BHK        1110   \n",
       "21    Apartment       Ready to move       East facing       2 BHK        1140   \n",
       "22    Apartment  Under Construction       East facing       2 BHK        1208   \n",
       "23    Apartment  Under Construction       East facing       3 BHK        1890   \n",
       "24    Apartment  Under Construction       West facing       2 BHK        1323   \n",
       "\n",
       "    Price_in_Lakhs    Location PriceRange  \n",
       "0              233  Gachibowli     Medium  \n",
       "1              202  Gachibowli     Medium  \n",
       "2              120  Gachibowli        Low  \n",
       "3               87  Gachibowli        Low  \n",
       "4               76  Gachibowli        Low  \n",
       "5              112  Gachibowli        Low  \n",
       "6              100  Gachibowli        Low  \n",
       "7              100  Gachibowli        Low  \n",
       "8               90  Gachibowli        Low  \n",
       "9              136  Gachibowli        Low  \n",
       "10              71  Gachibowli        Low  \n",
       "11             181  Gachibowli     Medium  \n",
       "12              82  Gachibowli        Low  \n",
       "13              65  Gachibowli        Low  \n",
       "14              60  Gachibowli        Low  \n",
       "15              65  Gachibowli        Low  \n",
       "16              34  Gachibowli        Low  \n",
       "17             141  Gachibowli        Low  \n",
       "18             145  Gachibowli        Low  \n",
       "19             200  Gachibowli     Medium  \n",
       "20              54  Gachibowli        Low  \n",
       "21              62  Gachibowli        Low  \n",
       "22              67  Gachibowli        Low  \n",
       "23             139  Gachibowli        Low  \n",
       "24              66  Gachibowli        Low  "
      ]
     },
     "execution_count": 17,
     "metadata": {},
     "output_type": "execute_result"
    }
   ],
   "source": [
    "df1.head(25)"
   ]
  },
  {
   "cell_type": "code",
   "execution_count": 18,
   "id": "67949af2",
   "metadata": {},
   "outputs": [
    {
     "data": {
      "text/html": [
       "<div>\n",
       "<style scoped>\n",
       "    .dataframe tbody tr th:only-of-type {\n",
       "        vertical-align: middle;\n",
       "    }\n",
       "\n",
       "    .dataframe tbody tr th {\n",
       "        vertical-align: top;\n",
       "    }\n",
       "\n",
       "    .dataframe thead th {\n",
       "        text-align: right;\n",
       "    }\n",
       "</style>\n",
       "<table border=\"1\" class=\"dataframe\">\n",
       "  <thead>\n",
       "    <tr style=\"text-align: right;\">\n",
       "      <th></th>\n",
       "      <th>TypeOfHouse</th>\n",
       "      <th>Construction_status</th>\n",
       "      <th>Facing</th>\n",
       "      <th>Type_of_BHK</th>\n",
       "      <th>Area_Sq_ft</th>\n",
       "      <th>Price_in_Lakhs</th>\n",
       "      <th>Location</th>\n",
       "      <th>PriceRange</th>\n",
       "    </tr>\n",
       "  </thead>\n",
       "  <tbody>\n",
       "    <tr>\n",
       "      <th>0</th>\n",
       "      <td>Villa</td>\n",
       "      <td>Under Construction</td>\n",
       "      <td>East facing</td>\n",
       "      <td>4 BHK</td>\n",
       "      <td>3940</td>\n",
       "      <td>233</td>\n",
       "      <td>Gachibowli</td>\n",
       "      <td>Medium</td>\n",
       "    </tr>\n",
       "    <tr>\n",
       "      <th>1</th>\n",
       "      <td>Apartment</td>\n",
       "      <td>Under Construction</td>\n",
       "      <td>East facing</td>\n",
       "      <td>3 BHK</td>\n",
       "      <td>2270</td>\n",
       "      <td>202</td>\n",
       "      <td>Gachibowli</td>\n",
       "      <td>Medium</td>\n",
       "    </tr>\n",
       "    <tr>\n",
       "      <th>2</th>\n",
       "      <td>Apartment</td>\n",
       "      <td>Under Construction</td>\n",
       "      <td>East facing</td>\n",
       "      <td>3 BHK</td>\n",
       "      <td>1721</td>\n",
       "      <td>120</td>\n",
       "      <td>Gachibowli</td>\n",
       "      <td>Low</td>\n",
       "    </tr>\n",
       "    <tr>\n",
       "      <th>3</th>\n",
       "      <td>Apartment</td>\n",
       "      <td>Under Construction</td>\n",
       "      <td>East facing</td>\n",
       "      <td>3 BHK</td>\n",
       "      <td>1896</td>\n",
       "      <td>87</td>\n",
       "      <td>Gachibowli</td>\n",
       "      <td>Low</td>\n",
       "    </tr>\n",
       "    <tr>\n",
       "      <th>4</th>\n",
       "      <td>Apartment</td>\n",
       "      <td>Under Construction</td>\n",
       "      <td>East facing</td>\n",
       "      <td>3 BHK</td>\n",
       "      <td>1565</td>\n",
       "      <td>76</td>\n",
       "      <td>Gachibowli</td>\n",
       "      <td>Low</td>\n",
       "    </tr>\n",
       "    <tr>\n",
       "      <th>...</th>\n",
       "      <td>...</td>\n",
       "      <td>...</td>\n",
       "      <td>...</td>\n",
       "      <td>...</td>\n",
       "      <td>...</td>\n",
       "      <td>...</td>\n",
       "      <td>...</td>\n",
       "      <td>...</td>\n",
       "    </tr>\n",
       "    <tr>\n",
       "      <th>740</th>\n",
       "      <td>Apartment</td>\n",
       "      <td>Under Construction</td>\n",
       "      <td>East facing</td>\n",
       "      <td>3 BHK</td>\n",
       "      <td>1400</td>\n",
       "      <td>77</td>\n",
       "      <td>Nanakramguda</td>\n",
       "      <td>Low</td>\n",
       "    </tr>\n",
       "    <tr>\n",
       "      <th>741</th>\n",
       "      <td>Apartment</td>\n",
       "      <td>Under Construction</td>\n",
       "      <td>East facing</td>\n",
       "      <td>2 BHK</td>\n",
       "      <td>1147</td>\n",
       "      <td>71</td>\n",
       "      <td>Nanakramguda</td>\n",
       "      <td>Low</td>\n",
       "    </tr>\n",
       "    <tr>\n",
       "      <th>742</th>\n",
       "      <td>Apartment</td>\n",
       "      <td>Under Construction</td>\n",
       "      <td>East facing</td>\n",
       "      <td>3 BHK</td>\n",
       "      <td>1610</td>\n",
       "      <td>104</td>\n",
       "      <td>Nanakramguda</td>\n",
       "      <td>Low</td>\n",
       "    </tr>\n",
       "    <tr>\n",
       "      <th>743</th>\n",
       "      <td>Apartment</td>\n",
       "      <td>Under Construction</td>\n",
       "      <td>East facing</td>\n",
       "      <td>3 BHK</td>\n",
       "      <td>1610</td>\n",
       "      <td>104</td>\n",
       "      <td>Nanakramguda</td>\n",
       "      <td>Low</td>\n",
       "    </tr>\n",
       "    <tr>\n",
       "      <th>744</th>\n",
       "      <td>Apartment</td>\n",
       "      <td>Under Construction</td>\n",
       "      <td>East facing</td>\n",
       "      <td>2 BHK</td>\n",
       "      <td>1136</td>\n",
       "      <td>70</td>\n",
       "      <td>Nanakramguda</td>\n",
       "      <td>Low</td>\n",
       "    </tr>\n",
       "  </tbody>\n",
       "</table>\n",
       "<p>745 rows × 8 columns</p>\n",
       "</div>"
      ],
      "text/plain": [
       "    TypeOfHouse Construction_status       Facing Type_of_BHK  Area_Sq_ft  \\\n",
       "0         Villa  Under Construction  East facing       4 BHK        3940   \n",
       "1     Apartment  Under Construction  East facing       3 BHK        2270   \n",
       "2     Apartment  Under Construction  East facing       3 BHK        1721   \n",
       "3     Apartment  Under Construction  East facing       3 BHK        1896   \n",
       "4     Apartment  Under Construction  East facing       3 BHK        1565   \n",
       "..          ...                 ...          ...         ...         ...   \n",
       "740   Apartment  Under Construction  East facing       3 BHK        1400   \n",
       "741   Apartment  Under Construction  East facing       2 BHK        1147   \n",
       "742   Apartment  Under Construction  East facing       3 BHK        1610   \n",
       "743   Apartment  Under Construction  East facing       3 BHK        1610   \n",
       "744   Apartment  Under Construction  East facing       2 BHK        1136   \n",
       "\n",
       "     Price_in_Lakhs      Location PriceRange  \n",
       "0               233    Gachibowli     Medium  \n",
       "1               202    Gachibowli     Medium  \n",
       "2               120    Gachibowli        Low  \n",
       "3                87    Gachibowli        Low  \n",
       "4                76    Gachibowli        Low  \n",
       "..              ...           ...        ...  \n",
       "740              77  Nanakramguda        Low  \n",
       "741              71  Nanakramguda        Low  \n",
       "742             104  Nanakramguda        Low  \n",
       "743             104  Nanakramguda        Low  \n",
       "744              70  Nanakramguda        Low  \n",
       "\n",
       "[745 rows x 8 columns]"
      ]
     },
     "execution_count": 18,
     "metadata": {},
     "output_type": "execute_result"
    }
   ],
   "source": [
    "df1.to_csv(\"project_cleaned_data.csv\")\n",
    "df1"
   ]
  },
  {
   "cell_type": "markdown",
   "id": "d2a5ced8",
   "metadata": {},
   "source": [
    "# Data Visualization"
   ]
  },
  {
   "cell_type": "code",
   "execution_count": 19,
   "id": "bbd993f4",
   "metadata": {},
   "outputs": [
    {
     "data": {
      "text/plain": [
       "Index(['TypeOfHouse', 'Construction_status', 'Facing', 'Type_of_BHK',\n",
       "       'Area_Sq_ft', 'Price_in_Lakhs', 'Location', 'PriceRange'],\n",
       "      dtype='object')"
      ]
     },
     "execution_count": 19,
     "metadata": {},
     "output_type": "execute_result"
    }
   ],
   "source": [
    "df1.columns"
   ]
  },
  {
   "cell_type": "markdown",
   "id": "a6570243",
   "metadata": {},
   "source": [
    "# Univariate analysis"
   ]
  },
  {
   "cell_type": "code",
   "execution_count": 20,
   "id": "db698f5c",
   "metadata": {},
   "outputs": [
    {
     "data": {
      "image/png": "[encoded data removed]",
      "text/plain": [
       "<Figure size 640x480 with 1 Axes>"
      ]
     },
     "metadata": {},
     "output_type": "display_data"
    }
   ],
   "source": [
    "a=sns.countplot(x=\"Location\",data=df1,order=df1[\"Location\"].value_counts().index)\n",
    "plt.xticks(rotation=90)\n",
    "for p in a.patches:\n",
    "    a.annotate(f'{p.get_height()}', (p.get_x() + p.get_width() / 2., p.get_height()),\n",
    "                ha='center', va='bottom', fontsize=8, color='black')\n",
    "plt.tight_layout()\n",
    "plt.show()"
   ]
  },
  {
   "cell_type": "code",
   "execution_count": 21,
   "id": "95a3a672",
   "metadata": {},
   "outputs": [
    {
     "data": {
      "image/png": "[encoded data removed]",
      "text/plain": [
       "<Figure size 640x480 with 1 Axes>"
      ]
     },
     "metadata": {},
     "output_type": "display_data"
    }
   ],
   "source": [
    "a=sns.countplot(x=\"Facing\",data=df1,order=df1[\"Facing\"].value_counts().index)\n",
    "plt.xticks(rotation=90)\n",
    "plt.xlabel(\"Facing\")\n",
    "for p in a.patches:\n",
    "    a.annotate(f'{p.get_height()}', (p.get_x() + p.get_width() / 2., p.get_height()),\n",
    "                ha='center', va='bottom', fontsize=8, color='black')\n",
    "plt.tight_layout()\n",
    "plt.show()"
   ]
  },
  {
   "cell_type": "markdown",
   "id": "f8c0c20e",
   "metadata": {},
   "source": [
    "we observed that most of the Apartment/Villa/Independent House are in East side facing followed by west side facing.It indicates that most of the peoples preferring east facing houses."
   ]
  },
  {
   "cell_type": "code",
   "execution_count": 22,
   "id": "8b7090a0",
   "metadata": {},
   "outputs": [
    {
     "data": {
      "image/png": "[encoded data removed]",
      "text/plain": [
       "<Figure size 640x480 with 1 Axes>"
      ]
     },
     "metadata": {},
     "output_type": "display_data"
    }
   ],
   "source": [
    "a=sns.countplot(x=\"Construction_status\",data=df1,order=df1[\"Construction_status\"].value_counts().index)\n",
    "plt.xticks(rotation=90)\n",
    "plt.xlabel(\"Construction_status\")\n",
    "for p in a.patches:\n",
    "    a.annotate(f'{p.get_height()}', (p.get_x() + p.get_width() / 2., p.get_height()),\n",
    "                ha='center', va='bottom', fontsize=10, color='black')\n",
    "plt.tight_layout()\n",
    "plt.show()"
   ]
  },
  {
   "cell_type": "markdown",
   "id": "107767e2",
   "metadata": {},
   "source": [
    "In the above bar plot it is showing that the Under construction houses are more when compared to Ready to move."
   ]
  },
  {
   "cell_type": "code",
   "execution_count": 23,
   "id": "86fe08bc",
   "metadata": {},
   "outputs": [
    {
     "data": {
      "image/png": "[encoded data removed]",
      "text/plain": [
       "<Figure size 640x480 with 1 Axes>"
      ]
     },
     "metadata": {},
     "output_type": "display_data"
    }
   ],
   "source": [
    "df1[\"Area_Sq_ft\"].plot(kind=\"hist\",bins=6,color=\"Grey\")\n",
    "plt.xlabel(\"Area_Sq_ft\")\n",
    "plt.show()"
   ]
  },
  {
   "cell_type": "markdown",
   "id": "09f2c16d",
   "metadata": {},
   "source": [
    "In the above plot it is showing that most of the houses areas is lies between 700 to 3000 sq_ft"
   ]
  },
  {
   "cell_type": "markdown",
   "id": "8920c396",
   "metadata": {},
   "source": [
    "# bivariate Analysis"
   ]
  },
  {
   "cell_type": "code",
   "execution_count": 23,
   "id": "e49d2e5c",
   "metadata": {},
   "outputs": [
    {
     "data": {
      "image/png": "[encoded data removed]",
      "text/plain": [
       "<Figure size 1000x500 with 1 Axes>"
      ]
     },
     "metadata": {},
     "output_type": "display_data"
    }
   ],
   "source": [
    "fig = plt.subplots(figsize=(10,5))\n",
    "sns.boxplot(x='Location', y='Price_in_Lakhs', data=df1)\n",
    "plt.xticks(rotation=90)\n",
    "plt.show()"
   ]
  },
  {
   "cell_type": "markdown",
   "id": "8116cd92",
   "metadata": {},
   "source": [
    "Based on the location in jubliee hills the Apartment/Villa/Independent house prices are very high when compared to the other locations followed by Attapur.  "
   ]
  },
  {
   "cell_type": "code",
   "execution_count": 24,
   "id": "8d692b95",
   "metadata": {},
   "outputs": [
    {
     "data": {
      "image/png": "[encoded data removed]",
      "text/plain": [
       "<Figure size 1300x500 with 1 Axes>"
      ]
     },
     "metadata": {},
     "output_type": "display_data"
    }
   ],
   "source": [
    "fig = plt.subplots(figsize=(13,5))\n",
    "sns.lineplot(x='Location', y='Price_in_Lakhs', data=df1)\n",
    "plt.grid()"
   ]
  },
  {
   "cell_type": "code",
   "execution_count": 25,
   "id": "3b524dce",
   "metadata": {
    "scrolled": false
   },
   "outputs": [
    {
     "data": {
      "text/plain": [
       "<Figure size 2000x600 with 0 Axes>"
      ]
     },
     "metadata": {},
     "output_type": "display_data"
    },
    {
     "data": {
      "image/png": "[encoded data removed]",
      "text/plain": [
       "<Figure size 640x480 with 1 Axes>"
      ]
     },
     "metadata": {},
     "output_type": "display_data"
    }
   ],
   "source": [
    "plt.figure(figsize=(20, 6))\n",
    "df2=df1[(df1[\"Location\"]==\"Jubilee Hills\")]\n",
    "\n",
    "ax=df2.groupby(\"TypeOfHouse\")[\"Price_in_Lakhs\"].agg([min,max]).plot(kind=\"bar\")\n",
    "plt.xticks(rotation=90)\n",
    "plt.xlabel(\"TypeOfHouse\")\n",
    "plt.ylabel('Price')\n",
    "for p in ax.patches:\n",
    "    ax.annotate(f'{p.get_height()}', (p.get_x() + p.get_width() / 2., p.get_height()),\n",
    "                ha='center', va='bottom', fontsize=6, color='black')\n",
    "plt.tight_layout()\n",
    "plt.show()"
   ]
  },
  {
   "cell_type": "markdown",
   "id": "c53c82e3",
   "metadata": {},
   "source": [
    "Above plot represents the minumum and maximum prices of Apartment,Villa and Independent house in the jubilee hills location."
   ]
  },
  {
   "cell_type": "code",
   "execution_count": 28,
   "id": "f11a6b2d",
   "metadata": {},
   "outputs": [
    {
     "data": {
      "image/png": "[encoded data removed]",
      "text/plain": [
       "<Figure size 640x480 with 1 Axes>"
      ]
     },
     "metadata": {},
     "output_type": "display_data"
    }
   ],
   "source": [
    "sns.scatterplot(x=\"Price_in_Lakhs\",y=\"Area_Sq_ft\",data=df1)\n",
    "plt.show()"
   ]
  },
  {
   "cell_type": "markdown",
   "id": "95da271f",
   "metadata": {},
   "source": [
    "By the above plot we observed that if the area_sq_ft increases then the price of the Apartment/Villa/Independent House is also increases simultaneously."
   ]
  },
  {
   "cell_type": "code",
   "execution_count": 25,
   "id": "f69e1d65",
   "metadata": {},
   "outputs": [
    {
     "data": {
      "image/png": "[encoded data removed]",
      "text/plain": [
       "<Figure size 640x480 with 1 Axes>"
      ]
     },
     "metadata": {},
     "output_type": "display_data"
    }
   ],
   "source": [
    "ax=sns.countplot(x=\"Type_of_BHK\",data=df1,order=df1[\"Type_of_BHK\"].value_counts().index)\n",
    "plt.xlabel(\"TypeOfHouse\")\n",
    "plt.ylabel('Price')\n",
    "plt.title(\"Type of BHK's for sale in Hyderabad\")\n",
    "for p in ax.patches:\n",
    "    ax.annotate(f'{p.get_height()}', (p.get_x() + p.get_width() / 2., p.get_height()),\n",
    "                ha='center', va='bottom', fontsize=6, color='black')\n",
    "plt.tight_layout()\n",
    "plt.show()"
   ]
  },
  {
   "cell_type": "markdown",
   "id": "45932072",
   "metadata": {},
   "source": [
    "# Minimum and maximum price based on the locaion "
   ]
  },
  {
   "cell_type": "code",
   "execution_count": 29,
   "id": "693fba5e",
   "metadata": {},
   "outputs": [
    {
     "data": {
      "text/plain": [
       "<Figure size 2000x600 with 0 Axes>"
      ]
     },
     "metadata": {},
     "output_type": "display_data"
    },
    {
     "data": {
      "image/png": "[encoded data removed]",
      "text/plain": [
       "<Figure size 640x480 with 1 Axes>"
      ]
     },
     "metadata": {},
     "output_type": "display_data"
    }
   ],
   "source": [
    "plt.figure(figsize=(20, 6))\n",
    "ax=df1.groupby(\"Location\")[\"Price_in_Lakhs\"].agg([min,max]).plot(kind=\"bar\")\n",
    "plt.xticks(rotation=90)\n",
    "plt.xlabel(\"Location\")\n",
    "plt.ylabel('Price')\n",
    "plt.title('Price_in_Lakhs')\n",
    "for p in ax.patches:\n",
    "    ax.annotate(f'{p.get_height()}', (p.get_x() + p.get_width() / 2., p.get_height()),\n",
    "                ha='center', va='bottom', fontsize=6, color='black')\n",
    "plt.tight_layout()\n",
    "plt.show()"
   ]
  },
  {
   "cell_type": "markdown",
   "id": "5879e804",
   "metadata": {},
   "source": [
    "# Minimum and Maximum price based on the Facing"
   ]
  },
  {
   "cell_type": "code",
   "execution_count": 30,
   "id": "9e0e0c3a",
   "metadata": {},
   "outputs": [
    {
     "data": {
      "text/plain": [
       "<Figure size 2000x600 with 0 Axes>"
      ]
     },
     "metadata": {},
     "output_type": "display_data"
    },
    {
     "data": {
      "image/png": "[encoded data removed]",
      "text/plain": [
       "<Figure size 640x480 with 1 Axes>"
      ]
     },
     "metadata": {},
     "output_type": "display_data"
    }
   ],
   "source": [
    "plt.figure(figsize=(20, 6))\n",
    "ax=df1.groupby(\"Facing\")[\"Price_in_Lakhs\"].agg([\"min\",\"max\"]).plot(kind=\"bar\")\n",
    "plt.xticks(rotation=90)\n",
    "plt.xlabel(\"Facing\")\n",
    "plt.ylabel('Price')\n",
    "plt.title('Price_in_Lakhs')\n",
    "for p in ax.patches:\n",
    "    ax.annotate(f'{p.get_height()}', (p.get_x() + p.get_width() / 2., p.get_height()),\n",
    "                ha='center', va='bottom', fontsize=6, color='black')\n",
    "plt.tight_layout()\n",
    "plt.show()"
   ]
  },
  {
   "cell_type": "code",
   "execution_count": 31,
   "id": "e6c3a3d3",
   "metadata": {},
   "outputs": [
    {
     "data": {
      "text/html": [
       "<div>\n",
       "<style scoped>\n",
       "    .dataframe tbody tr th:only-of-type {\n",
       "        vertical-align: middle;\n",
       "    }\n",
       "\n",
       "    .dataframe tbody tr th {\n",
       "        vertical-align: top;\n",
       "    }\n",
       "\n",
       "    .dataframe thead th {\n",
       "        text-align: right;\n",
       "    }\n",
       "</style>\n",
       "<table border=\"1\" class=\"dataframe\">\n",
       "  <thead>\n",
       "    <tr style=\"text-align: right;\">\n",
       "      <th></th>\n",
       "      <th>min</th>\n",
       "      <th>max</th>\n",
       "      <th>mean</th>\n",
       "    </tr>\n",
       "    <tr>\n",
       "      <th>Type_of_BHK</th>\n",
       "      <th></th>\n",
       "      <th></th>\n",
       "      <th></th>\n",
       "    </tr>\n",
       "  </thead>\n",
       "  <tbody>\n",
       "    <tr>\n",
       "      <th>1 BHK</th>\n",
       "      <td>34</td>\n",
       "      <td>100</td>\n",
       "      <td>56.000000</td>\n",
       "    </tr>\n",
       "    <tr>\n",
       "      <th>2 BHK</th>\n",
       "      <td>16</td>\n",
       "      <td>180</td>\n",
       "      <td>71.955720</td>\n",
       "    </tr>\n",
       "    <tr>\n",
       "      <th>3 BHK</th>\n",
       "      <td>34</td>\n",
       "      <td>425</td>\n",
       "      <td>115.914358</td>\n",
       "    </tr>\n",
       "    <tr>\n",
       "      <th>4 BHK</th>\n",
       "      <td>100</td>\n",
       "      <td>2000</td>\n",
       "      <td>322.654545</td>\n",
       "    </tr>\n",
       "    <tr>\n",
       "      <th>5 BHK</th>\n",
       "      <td>450</td>\n",
       "      <td>2200</td>\n",
       "      <td>1037.083333</td>\n",
       "    </tr>\n",
       "    <tr>\n",
       "      <th>6 BHK</th>\n",
       "      <td>165</td>\n",
       "      <td>1500</td>\n",
       "      <td>880.285714</td>\n",
       "    </tr>\n",
       "  </tbody>\n",
       "</table>\n",
       "</div>"
      ],
      "text/plain": [
       "             min   max         mean\n",
       "Type_of_BHK                        \n",
       "1 BHK         34   100    56.000000\n",
       "2 BHK         16   180    71.955720\n",
       "3 BHK         34   425   115.914358\n",
       "4 BHK        100  2000   322.654545\n",
       "5 BHK        450  2200  1037.083333\n",
       "6 BHK        165  1500   880.285714"
      ]
     },
     "execution_count": 31,
     "metadata": {},
     "output_type": "execute_result"
    }
   ],
   "source": [
    "df1.groupby(\"Type_of_BHK\")[\"Price_in_Lakhs\"].agg([\"min\",\"max\",\"mean\"])"
   ]
  },
  {
   "cell_type": "markdown",
   "id": "a8170249",
   "metadata": {},
   "source": [
    "# Multivariate analysis"
   ]
  },
  {
   "cell_type": "code",
   "execution_count": 32,
   "id": "46d517ae",
   "metadata": {},
   "outputs": [
    {
     "data": {
      "text/html": [
       "<div>\n",
       "<style scoped>\n",
       "    .dataframe tbody tr th:only-of-type {\n",
       "        vertical-align: middle;\n",
       "    }\n",
       "\n",
       "    .dataframe tbody tr th {\n",
       "        vertical-align: top;\n",
       "    }\n",
       "\n",
       "    .dataframe thead th {\n",
       "        text-align: right;\n",
       "    }\n",
       "</style>\n",
       "<table border=\"1\" class=\"dataframe\">\n",
       "  <thead>\n",
       "    <tr style=\"text-align: right;\">\n",
       "      <th>Type_of_BHK</th>\n",
       "      <th>1 BHK</th>\n",
       "      <th>2 BHK</th>\n",
       "      <th>3 BHK</th>\n",
       "      <th>4 BHK</th>\n",
       "      <th>5 BHK</th>\n",
       "      <th>6 BHK</th>\n",
       "    </tr>\n",
       "    <tr>\n",
       "      <th>Price_in_Lakhs</th>\n",
       "      <th></th>\n",
       "      <th></th>\n",
       "      <th></th>\n",
       "      <th></th>\n",
       "      <th></th>\n",
       "      <th></th>\n",
       "    </tr>\n",
       "  </thead>\n",
       "  <tbody>\n",
       "    <tr>\n",
       "      <th>16</th>\n",
       "      <td>0</td>\n",
       "      <td>1</td>\n",
       "      <td>0</td>\n",
       "      <td>0</td>\n",
       "      <td>0</td>\n",
       "      <td>0</td>\n",
       "    </tr>\n",
       "    <tr>\n",
       "      <th>27</th>\n",
       "      <td>0</td>\n",
       "      <td>1</td>\n",
       "      <td>0</td>\n",
       "      <td>0</td>\n",
       "      <td>0</td>\n",
       "      <td>0</td>\n",
       "    </tr>\n",
       "    <tr>\n",
       "      <th>31</th>\n",
       "      <td>0</td>\n",
       "      <td>1</td>\n",
       "      <td>0</td>\n",
       "      <td>0</td>\n",
       "      <td>0</td>\n",
       "      <td>0</td>\n",
       "    </tr>\n",
       "    <tr>\n",
       "      <th>33</th>\n",
       "      <td>0</td>\n",
       "      <td>1</td>\n",
       "      <td>0</td>\n",
       "      <td>0</td>\n",
       "      <td>0</td>\n",
       "      <td>0</td>\n",
       "    </tr>\n",
       "    <tr>\n",
       "      <th>34</th>\n",
       "      <td>2</td>\n",
       "      <td>1</td>\n",
       "      <td>1</td>\n",
       "      <td>0</td>\n",
       "      <td>0</td>\n",
       "      <td>0</td>\n",
       "    </tr>\n",
       "    <tr>\n",
       "      <th>...</th>\n",
       "      <td>...</td>\n",
       "      <td>...</td>\n",
       "      <td>...</td>\n",
       "      <td>...</td>\n",
       "      <td>...</td>\n",
       "      <td>...</td>\n",
       "    </tr>\n",
       "    <tr>\n",
       "      <th>1500</th>\n",
       "      <td>0</td>\n",
       "      <td>0</td>\n",
       "      <td>0</td>\n",
       "      <td>1</td>\n",
       "      <td>1</td>\n",
       "      <td>1</td>\n",
       "    </tr>\n",
       "    <tr>\n",
       "      <th>1848</th>\n",
       "      <td>0</td>\n",
       "      <td>0</td>\n",
       "      <td>0</td>\n",
       "      <td>1</td>\n",
       "      <td>0</td>\n",
       "      <td>0</td>\n",
       "    </tr>\n",
       "    <tr>\n",
       "      <th>1959</th>\n",
       "      <td>0</td>\n",
       "      <td>0</td>\n",
       "      <td>0</td>\n",
       "      <td>0</td>\n",
       "      <td>2</td>\n",
       "      <td>0</td>\n",
       "    </tr>\n",
       "    <tr>\n",
       "      <th>2000</th>\n",
       "      <td>0</td>\n",
       "      <td>0</td>\n",
       "      <td>0</td>\n",
       "      <td>1</td>\n",
       "      <td>0</td>\n",
       "      <td>0</td>\n",
       "    </tr>\n",
       "    <tr>\n",
       "      <th>2200</th>\n",
       "      <td>0</td>\n",
       "      <td>0</td>\n",
       "      <td>0</td>\n",
       "      <td>0</td>\n",
       "      <td>1</td>\n",
       "      <td>0</td>\n",
       "    </tr>\n",
       "  </tbody>\n",
       "</table>\n",
       "<p>174 rows × 6 columns</p>\n",
       "</div>"
      ],
      "text/plain": [
       "Type_of_BHK     1 BHK  2 BHK  3 BHK  4 BHK  5 BHK  6 BHK\n",
       "Price_in_Lakhs                                          \n",
       "16                  0      1      0      0      0      0\n",
       "27                  0      1      0      0      0      0\n",
       "31                  0      1      0      0      0      0\n",
       "33                  0      1      0      0      0      0\n",
       "34                  2      1      1      0      0      0\n",
       "...               ...    ...    ...    ...    ...    ...\n",
       "1500                0      0      0      1      1      1\n",
       "1848                0      0      0      1      0      0\n",
       "1959                0      0      0      0      2      0\n",
       "2000                0      0      0      1      0      0\n",
       "2200                0      0      0      0      1      0\n",
       "\n",
       "[174 rows x 6 columns]"
      ]
     },
     "execution_count": 32,
     "metadata": {},
     "output_type": "execute_result"
    }
   ],
   "source": [
    "crosstab1=pd.crosstab(df1[\"Price_in_Lakhs\"],df1[\"Type_of_BHK\"])\n",
    "crosstab1"
   ]
  },
  {
   "cell_type": "code",
   "execution_count": 28,
   "id": "72009a05",
   "metadata": {},
   "outputs": [
    {
     "data": {
      "text/html": [
       "<div>\n",
       "<style scoped>\n",
       "    .dataframe tbody tr th:only-of-type {\n",
       "        vertical-align: middle;\n",
       "    }\n",
       "\n",
       "    .dataframe tbody tr th {\n",
       "        vertical-align: top;\n",
       "    }\n",
       "\n",
       "    .dataframe thead th {\n",
       "        text-align: right;\n",
       "    }\n",
       "</style>\n",
       "<table border=\"1\" class=\"dataframe\">\n",
       "  <thead>\n",
       "    <tr style=\"text-align: right;\">\n",
       "      <th>Location</th>\n",
       "      <th>Ameerpet</th>\n",
       "      <th>Attapur</th>\n",
       "      <th>Gachibowli</th>\n",
       "      <th>Jubilee Hills</th>\n",
       "      <th>Kondapur</th>\n",
       "      <th>Kukatpally</th>\n",
       "      <th>LB Nagar</th>\n",
       "      <th>Manikonda</th>\n",
       "      <th>Nanakramguda</th>\n",
       "      <th>Nizampet</th>\n",
       "    </tr>\n",
       "    <tr>\n",
       "      <th>Type_of_BHK</th>\n",
       "      <th></th>\n",
       "      <th></th>\n",
       "      <th></th>\n",
       "      <th></th>\n",
       "      <th></th>\n",
       "      <th></th>\n",
       "      <th></th>\n",
       "      <th></th>\n",
       "      <th></th>\n",
       "      <th></th>\n",
       "    </tr>\n",
       "  </thead>\n",
       "  <tbody>\n",
       "    <tr>\n",
       "      <th>1 BHK</th>\n",
       "      <td>0</td>\n",
       "      <td>0</td>\n",
       "      <td>1</td>\n",
       "      <td>0</td>\n",
       "      <td>0</td>\n",
       "      <td>1</td>\n",
       "      <td>0</td>\n",
       "      <td>0</td>\n",
       "      <td>0</td>\n",
       "      <td>1</td>\n",
       "    </tr>\n",
       "    <tr>\n",
       "      <th>2 BHK</th>\n",
       "      <td>5</td>\n",
       "      <td>1</td>\n",
       "      <td>26</td>\n",
       "      <td>2</td>\n",
       "      <td>28</td>\n",
       "      <td>64</td>\n",
       "      <td>26</td>\n",
       "      <td>30</td>\n",
       "      <td>20</td>\n",
       "      <td>69</td>\n",
       "    </tr>\n",
       "    <tr>\n",
       "      <th>3 BHK</th>\n",
       "      <td>3</td>\n",
       "      <td>4</td>\n",
       "      <td>46</td>\n",
       "      <td>12</td>\n",
       "      <td>46</td>\n",
       "      <td>57</td>\n",
       "      <td>81</td>\n",
       "      <td>61</td>\n",
       "      <td>16</td>\n",
       "      <td>71</td>\n",
       "    </tr>\n",
       "    <tr>\n",
       "      <th>4 BHK</th>\n",
       "      <td>1</td>\n",
       "      <td>1</td>\n",
       "      <td>9</td>\n",
       "      <td>7</td>\n",
       "      <td>5</td>\n",
       "      <td>5</td>\n",
       "      <td>20</td>\n",
       "      <td>4</td>\n",
       "      <td>2</td>\n",
       "      <td>1</td>\n",
       "    </tr>\n",
       "    <tr>\n",
       "      <th>5 BHK</th>\n",
       "      <td>0</td>\n",
       "      <td>1</td>\n",
       "      <td>0</td>\n",
       "      <td>5</td>\n",
       "      <td>2</td>\n",
       "      <td>0</td>\n",
       "      <td>0</td>\n",
       "      <td>2</td>\n",
       "      <td>2</td>\n",
       "      <td>0</td>\n",
       "    </tr>\n",
       "    <tr>\n",
       "      <th>6 BHK</th>\n",
       "      <td>0</td>\n",
       "      <td>2</td>\n",
       "      <td>0</td>\n",
       "      <td>4</td>\n",
       "      <td>0</td>\n",
       "      <td>0</td>\n",
       "      <td>1</td>\n",
       "      <td>0</td>\n",
       "      <td>0</td>\n",
       "      <td>0</td>\n",
       "    </tr>\n",
       "  </tbody>\n",
       "</table>\n",
       "</div>"
      ],
      "text/plain": [
       "Location     Ameerpet  Attapur  Gachibowli  Jubilee Hills  Kondapur  \\\n",
       "Type_of_BHK                                                           \n",
       "1 BHK               0        0           1              0         0   \n",
       "2 BHK               5        1          26              2        28   \n",
       "3 BHK               3        4          46             12        46   \n",
       "4 BHK               1        1           9              7         5   \n",
       "5 BHK               0        1           0              5         2   \n",
       "6 BHK               0        2           0              4         0   \n",
       "\n",
       "Location     Kukatpally  LB Nagar  Manikonda  Nanakramguda  Nizampet  \n",
       "Type_of_BHK                                                           \n",
       "1 BHK                 1         0          0             0         1  \n",
       "2 BHK                64        26         30            20        69  \n",
       "3 BHK                57        81         61            16        71  \n",
       "4 BHK                 5        20          4             2         1  \n",
       "5 BHK                 0         0          2             2         0  \n",
       "6 BHK                 0         1          0             0         0  "
      ]
     },
     "execution_count": 28,
     "metadata": {},
     "output_type": "execute_result"
    }
   ],
   "source": [
    "crosstab=pd.crosstab(df1[\"Type_of_BHK\"],df1[\"Location\"])\n",
    "crosstab"
   ]
  },
  {
   "cell_type": "code",
   "execution_count": 29,
   "id": "6036e30c",
   "metadata": {},
   "outputs": [
    {
     "data": {
      "image/png": "[encoded data removed]",
      "text/plain": [
       "<Figure size 640x480 with 1 Axes>"
      ]
     },
     "metadata": {},
     "output_type": "display_data"
    }
   ],
   "source": [
    "crosstab.plot(kind=\"bar\")\n",
    "plt.show()"
   ]
  },
  {
   "cell_type": "code",
   "execution_count": 30,
   "id": "c6d02153",
   "metadata": {},
   "outputs": [
    {
     "name": "stderr",
     "output_type": "stream",
     "text": [
      "C:\\Users\\Hi\\AppData\\Local\\Temp\\ipykernel_15084\\3199766028.py:1: FutureWarning: The default value of numeric_only in DataFrame.corr is deprecated. In a future version, it will default to False. Select only valid columns or specify the value of numeric_only to silence this warning.\n",
      "  sns.heatmap(df1.corr(),cmap=\"BuPu\",annot=True)       #\"Blue to Purple(BuPu)\n"
     ]
    },
    {
     "data": {
      "text/plain": [
       "<Axes: >"
      ]
     },
     "execution_count": 30,
     "metadata": {},
     "output_type": "execute_result"
    },
    {
     "data": {
      "image/png": "[encoded data removed]",
      "text/plain": [
       "<Figure size 640x480 with 2 Axes>"
      ]
     },
     "metadata": {},
     "output_type": "display_data"
    }
   ],
   "source": [
    "sns.heatmap(df1.corr(),cmap=\"BuPu\",annot=True)       #\"Blue to Purple(BuPu)"
   ]
  },
  {
   "cell_type": "markdown",
   "id": "d667a9ab",
   "metadata": {},
   "source": [
    "We can observe that,there is a strong correlation between the \n",
    "Price and Area sqft with a  extinction of 0.8"
   ]
  },
  {
   "cell_type": "markdown",
   "id": "f3df293c",
   "metadata": {},
   "source": [
    "# Conclusion"
   ]
  },
  {
   "cell_type": "markdown",
   "id": "43e288ae",
   "metadata": {},
   "source": [
    "This analysis will contribute to a better understanding of how location impacts property prices for different types of properties. The findings can guide buyers, sellers, and investors in making informed decisions. Additionally, the analysis can serve as a basis for further research on the dynamic nature of real estate markets and their response to changing economic conditions."
   ]
  },
  {
   "cell_type": "code",
   "execution_count": null,
   "id": "08499bc9",
   "metadata": {},
   "outputs": [],
   "source": []
  }
 ],
 "metadata": {
  "kernelspec": {
   "display_name": "Python 3 (ipykernel)",
   "language": "python",
   "name": "python3"
  },
  "language_info": {
   "codemirror_mode": {
    "name": "ipython",
    "version": 3
   },
   "file_extension": ".py",
   "mimetype": "text/x-python",
   "name": "python",
   "nbconvert_exporter": "python",
   "pygments_lexer": "ipython3",
   "version": "3.10.9"
  }
 },
 "nbformat": 4,
 "nbformat_minor": 5
}
